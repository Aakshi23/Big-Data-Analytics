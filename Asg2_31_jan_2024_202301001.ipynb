{
  "nbformat": 4,
  "nbformat_minor": 0,
  "metadata": {
    "colab": {
      "provenance": [],
      "authorship_tag": "ABX9TyNerD0VNNK4wuDa8HzfEfkN",
      "include_colab_link": true
    },
    "kernelspec": {
      "name": "python3",
      "display_name": "Python 3"
    },
    "language_info": {
      "name": "python"
    }
  },
  "cells": [
    {
      "cell_type": "markdown",
      "metadata": {
        "id": "view-in-github",
        "colab_type": "text"
      },
      "source": [
        "<a href=\"https://colab.research.google.com/github/Aakshi23/Big-Data-Analytics/blob/main/Asg2_31_jan_2024_202301001.ipynb\" target=\"_parent\"><img src=\"https://colab.research.google.com/assets/colab-badge.svg\" alt=\"Open In Colab\"/></a>"
      ]
    },
    {
      "cell_type": "markdown",
      "source": [
        "Ques-1"
      ],
      "metadata": {
        "id": "52r2_KNlWCaq"
      }
    },
    {
      "cell_type": "code",
      "execution_count": null,
      "metadata": {
        "colab": {
          "base_uri": "https://localhost:8080/"
        },
        "id": "n9DrT1_IOyxe",
        "outputId": "92e52c46-bcfd-48bd-93eb-65af0e1cb9d5"
      },
      "outputs": [
        {
          "output_type": "stream",
          "name": "stdout",
          "text": [
            "[6 5 4 3 2 1]\n"
          ]
        }
      ],
      "source": [
        "import numpy as np\n",
        "arr=np.array([1,2,3,4,5,6])\n",
        "arr1=arr[::-1]\n",
        "print(arr1)"
      ]
    },
    {
      "cell_type": "markdown",
      "source": [
        "Ques-2"
      ],
      "metadata": {
        "id": "sWLc18rKWBVX"
      }
    },
    {
      "cell_type": "code",
      "source": [
        "import numpy as np\n",
        "arr1=np.array([[4,4],[4,5]])\n",
        "arr2=np.array([[1,2,3], [4,7,6]])\n",
        "if(arr1.all()==arr2.all()):\n",
        "  print(\"array is same\")\n",
        "else:\n",
        "  print(\"array is not same\")\n"
      ],
      "metadata": {
        "colab": {
          "base_uri": "https://localhost:8080/"
        },
        "id": "WxK8kWs-QJ3t",
        "outputId": "69fda479-18c8-4514-ad3b-9afc2abfd769"
      },
      "execution_count": null,
      "outputs": [
        {
          "output_type": "stream",
          "name": "stdout",
          "text": [
            "array is same\n"
          ]
        }
      ]
    },
    {
      "cell_type": "markdown",
      "source": [
        "Ques-3"
      ],
      "metadata": {
        "id": "6L6Oe2dqWIyL"
      }
    },
    {
      "cell_type": "code",
      "source": [
        "import numpy as np\n",
        "x = np.array([1,2,3,4,5,1,2,1,1,1])\n",
        "y = np.array([1, 1, 1, 2, 3, 4, 2, 4, 3, 3,4,4,4])\n",
        "print(\"Original array:\")\n",
        "print(x)\n",
        "print(y)\n",
        "print(\"Most frequent value in the above array:\")\n",
        "print(np.bincount(x).argmax())\n",
        "print(\"Most frequent value in the above array:\")\n",
        "print(np.bincount(y).argmax())\n"
      ],
      "metadata": {
        "colab": {
          "base_uri": "https://localhost:8080/"
        },
        "id": "MAfAw4F1T8Ur",
        "outputId": "d5e425d8-0915-4a41-ad0a-8fc9fbddba27"
      },
      "execution_count": null,
      "outputs": [
        {
          "output_type": "stream",
          "name": "stdout",
          "text": [
            "Original array:\n",
            "[1 2 3 4 5 1 2 1 1 1]\n",
            "[1 1 1 2 3 4 2 4 3 3 4 4 4]\n",
            "Most frequent value in the above array:\n",
            "1\n",
            "Most frequent value in the above array:\n",
            "4\n"
          ]
        }
      ]
    },
    {
      "cell_type": "markdown",
      "source": [
        "Ques-4"
      ],
      "metadata": {
        "id": "IpkhrhcQWLDz"
      }
    },
    {
      "cell_type": "code",
      "source": [
        "import numpy as np\n",
        "\n",
        "gfg = np.matrix('[4, 1, 9; 12, 3, 1; 4, 5, 6]')\n",
        "\n",
        "sum_all_elements = gfg.sum()\n",
        "\n",
        "sum_row_wise = gfg.sum(axis=1)\n",
        "\n",
        "sum_column_wise = gfg.sum(axis=0)\n",
        "\n",
        "print(\"i. Sum of all elements:\", sum_all_elements)\n",
        "print(\"ii. Sum of all elements row-wise:\", sum_row_wise)\n",
        "print(\"iii. Sum of all elements column-wise:\", sum_column_wise)"
      ],
      "metadata": {
        "colab": {
          "base_uri": "https://localhost:8080/"
        },
        "id": "BpcGfWBYVGjN",
        "outputId": "0dae0852-109f-4430-bfad-3900a700cb84"
      },
      "execution_count": null,
      "outputs": [
        {
          "output_type": "stream",
          "name": "stdout",
          "text": [
            "i. Sum of all elements: 45\n",
            "ii. Sum of all elements row-wise: [[14]\n",
            " [16]\n",
            " [15]]\n",
            "iii. Sum of all elements column-wise: [[20  9 16]]\n"
          ]
        }
      ]
    }
  ]
}