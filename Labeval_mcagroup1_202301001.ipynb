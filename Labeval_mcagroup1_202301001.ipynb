{
  "nbformat": 4,
  "nbformat_minor": 0,
  "metadata": {
    "colab": {
      "provenance": [],
      "authorship_tag": "ABX9TyNxLq9UR1pX6HmedjuqR9EK",
      "include_colab_link": true
    },
    "kernelspec": {
      "name": "python3",
      "display_name": "Python 3"
    },
    "language_info": {
      "name": "python"
    }
  },
  "cells": [
    {
      "cell_type": "markdown",
      "metadata": {
        "id": "view-in-github",
        "colab_type": "text"
      },
      "source": [
        "<a href=\"https://colab.research.google.com/github/Aakshi23/Big-Data-Analytics/blob/main/Labeval_mcagroup1_202301001.ipynb\" target=\"_parent\"><img src=\"https://colab.research.google.com/assets/colab-badge.svg\" alt=\"Open In Colab\"/></a>"
      ]
    },
    {
      "cell_type": "code",
      "execution_count": null,
      "metadata": {
        "id": "42593Ercv4xw"
      },
      "outputs": [],
      "source": [
        "Multiply the following matrices and also find covariance between matrices using numpy :i\n",
        "p=[[1,2],[2,3]] q=[[4,5],[6,7]]"
      ]
    },
    {
      "cell_type": "code",
      "source": [
        "import numpy as i\n",
        "p = i.array([[1, 2], [2, 3]])\n",
        "q = i.array([[4, 5], [6, 7]])\n",
        "result = i.dot(p, q)\n",
        "print(\"Matrix multiplication result:\")\n",
        "print(result)\n",
        "covariance = i.cov(result,result)\n",
        "print(\"Covariance between matrices:\")\n",
        "print(covariance)\n",
        "\n"
      ],
      "metadata": {
        "colab": {
          "base_uri": "https://localhost:8080/"
        },
        "id": "RP1iA5ApwWi6",
        "outputId": "75dc3cf9-7039-4650-9a44-bedc65277599"
      },
      "execution_count": 12,
      "outputs": [
        {
          "output_type": "stream",
          "name": "stdout",
          "text": [
            "Matrix multiplication result:\n",
            "[[16 19]\n",
            " [26 31]]\n",
            "Covariance between matrices:\n",
            "[[ 4.5  7.5  4.5  7.5]\n",
            " [ 7.5 12.5  7.5 12.5]\n",
            " [ 4.5  7.5  4.5  7.5]\n",
            " [ 7.5 12.5  7.5 12.5]]\n"
          ]
        }
      ]
    },
    {
      "cell_type": "code",
      "source": [],
      "metadata": {
        "id": "mpfHtceJxnBC"
      },
      "execution_count": null,
      "outputs": []
    }
  ]
}