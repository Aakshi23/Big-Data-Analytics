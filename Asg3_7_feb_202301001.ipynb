{
  "nbformat": 4,
  "nbformat_minor": 0,
  "metadata": {
    "colab": {
      "provenance": [],
      "authorship_tag": "ABX9TyPt3tIeOg6F4e1KnfOD4oLP",
      "include_colab_link": true
    },
    "kernelspec": {
      "name": "python3",
      "display_name": "Python 3"
    },
    "language_info": {
      "name": "python"
    }
  },
  "cells": [
    {
      "cell_type": "markdown",
      "metadata": {
        "id": "view-in-github",
        "colab_type": "text"
      },
      "source": [
        "<a href=\"https://colab.research.google.com/github/Aakshi23/Big-Data-Analytics/blob/main/Asg3_7_feb_202301001.ipynb\" target=\"_parent\"><img src=\"https://colab.research.google.com/assets/colab-badge.svg\" alt=\"Open In Colab\"/></a>"
      ]
    },
    {
      "cell_type": "markdown",
      "source": [
        "Asg-3 Pandas"
      ],
      "metadata": {
        "id": "5g0wH5TTSloX"
      }
    },
    {
      "cell_type": "markdown",
      "source": [
        "Ques-1"
      ],
      "metadata": {
        "id": "vc7gf6OuSpid"
      }
    },
    {
      "cell_type": "code",
      "execution_count": null,
      "metadata": {
        "colab": {
          "base_uri": "https://localhost:8080/"
        },
        "id": "WaVy5mACSSob",
        "outputId": "46a601b9-9b49-45dd-aabe-c31268a6e1b5"
      },
      "outputs": [
        {
          "output_type": "stream",
          "name": "stdout",
          "text": [
            "   Tid Refund Marital Status Taxable Income Cheat\n",
            "0    1    Yes         Single           125K    No\n",
            "1    2     No        Married           100K    No\n",
            "2    3     No         Single            70K    No\n",
            "3    4    Yes        Married           120K    No\n",
            "4    5     No       Divorced            95K   Yes\n",
            "5    6     No        Married            60K    No\n",
            "6    7    Yes       Divorced           220K    No\n",
            "7    8     No         Single            85K   Yes\n",
            "8    9     No        Married            75K    No\n",
            "9   10     No         Single            90K   Yes\n",
            "Tid                    1\n",
            "Refund               Yes\n",
            "Marital Status    Single\n",
            "Taxable Income      125K\n",
            "Cheat                 No\n",
            "Name: 0, dtype: object\n",
            "Tid                      5\n",
            "Refund                  No\n",
            "Marital Status    Divorced\n",
            "Taxable Income         95K\n",
            "Cheat                  Yes\n",
            "Name: 4, dtype: object\n",
            "Tid                    8\n",
            "Refund                No\n",
            "Marital Status    Single\n",
            "Taxable Income       85K\n",
            "Cheat                Yes\n",
            "Name: 7, dtype: object\n",
            "Tid                     9\n",
            "Refund                 No\n",
            "Marital Status    Married\n",
            "Taxable Income        75K\n",
            "Cheat                  No\n",
            "Name: 8, dtype: object\n"
          ]
        }
      ],
      "source": [
        "import pandas as pd\n",
        "\n",
        "data={'Tid':[1,2,3,4,5,6,7,8,9,10],\n",
        "      'Refund':[\"Yes\",\"No\",\"No\",\"Yes\",\"No\",\"No\",\"Yes\",\"No\",\"No\",\"No\"],\n",
        "      'Marital Status':[\"Single\",\"Married\",\"Single\",\"Married\",\"Divorced\",\"Married\",\"Divorced\",\"Single\",\"Married\",\"Single\"],\n",
        "      'Taxable Income':[\"125K\",\"100K\",\"70K\",\"120K\",\"95K\",\"60K\",\"220K\",\"85K\",\"75K\",\"90K\"],\n",
        "      'Cheat':[\"No\",\"No\",\"No\",\"No\",\"Yes\",\"No\",\"No\",\"Yes\",\"No\",\"Yes\"]}\n",
        "\n",
        "myvar=pd.DataFrame(data)\n",
        "\n",
        "print(myvar)\n",
        "\n",
        "#Ques-2\n",
        "\n",
        "print(myvar.loc[0])\n",
        "print(myvar.loc[4])\n",
        "print(myvar.loc[7])\n",
        "print(myvar.loc[8])\n"
      ]
    },
    {
      "cell_type": "code",
      "source": [
        "from google.colab import drive\n",
        "drive.mount(\"/content/drive\")"
      ],
      "metadata": {
        "colab": {
          "base_uri": "https://localhost:8080/"
        },
        "id": "M_8mY-JPWiuo",
        "outputId": "6fa29dc2-6baa-4d06-c7d6-f75040ffbca8"
      },
      "execution_count": null,
      "outputs": [
        {
          "output_type": "stream",
          "name": "stdout",
          "text": [
            "Mounted at /content/drive\n"
          ]
        }
      ]
    },
    {
      "cell_type": "code",
      "source": [
        "import pandas as pd\n",
        "\n",
        "path = \"/content/drive/MyDrive/fetal_health.csv\"\n",
        "df = pd.read_csv(path)\n",
        "\n",
        "print(df)"
      ],
      "metadata": {
        "colab": {
          "base_uri": "https://localhost:8080/"
        },
        "id": "1O2LtY64brtL",
        "outputId": "d5d3bfab-5c77-4b8f-fddc-e6fbcc02acb8"
      },
      "execution_count": null,
      "outputs": [
        {
          "output_type": "stream",
          "name": "stdout",
          "text": [
            "      baseline value  accelerations  fetal_movement  uterine_contractions  \\\n",
            "0              120.0          0.000           0.000                 0.000   \n",
            "1              132.0          0.006           0.000                 0.006   \n",
            "2              133.0          0.003           0.000                 0.008   \n",
            "3              134.0          0.003           0.000                 0.008   \n",
            "4              132.0          0.007           0.000                 0.008   \n",
            "...              ...            ...             ...                   ...   \n",
            "2121           140.0          0.000           0.000                 0.007   \n",
            "2122           140.0          0.001           0.000                 0.007   \n",
            "2123           140.0          0.001           0.000                 0.007   \n",
            "2124           140.0          0.001           0.000                 0.006   \n",
            "2125           142.0          0.002           0.002                 0.008   \n",
            "\n",
            "      light_decelerations  severe_decelerations  prolongued_decelerations  \\\n",
            "0                   0.000                   0.0                       0.0   \n",
            "1                   0.003                   0.0                       0.0   \n",
            "2                   0.003                   0.0                       0.0   \n",
            "3                   0.003                   0.0                       0.0   \n",
            "4                   0.000                   0.0                       0.0   \n",
            "...                   ...                   ...                       ...   \n",
            "2121                0.000                   0.0                       0.0   \n",
            "2122                0.000                   0.0                       0.0   \n",
            "2123                0.000                   0.0                       0.0   \n",
            "2124                0.000                   0.0                       0.0   \n",
            "2125                0.000                   0.0                       0.0   \n",
            "\n",
            "      abnormal_short_term_variability  mean_value_of_short_term_variability  \\\n",
            "0                                73.0                                   0.5   \n",
            "1                                17.0                                   2.1   \n",
            "2                                16.0                                   2.1   \n",
            "3                                16.0                                   2.4   \n",
            "4                                16.0                                   2.4   \n",
            "...                               ...                                   ...   \n",
            "2121                             79.0                                   0.2   \n",
            "2122                             78.0                                   0.4   \n",
            "2123                             79.0                                   0.4   \n",
            "2124                             78.0                                   0.4   \n",
            "2125                             74.0                                   0.4   \n",
            "\n",
            "      percentage_of_time_with_abnormal_long_term_variability  ...  \\\n",
            "0                                                  43.0       ...   \n",
            "1                                                   0.0       ...   \n",
            "2                                                   0.0       ...   \n",
            "3                                                   0.0       ...   \n",
            "4                                                   0.0       ...   \n",
            "...                                                 ...       ...   \n",
            "2121                                               25.0       ...   \n",
            "2122                                               22.0       ...   \n",
            "2123                                               20.0       ...   \n",
            "2124                                               27.0       ...   \n",
            "2125                                               36.0       ...   \n",
            "\n",
            "      histogram_min  histogram_max  histogram_number_of_peaks  \\\n",
            "0              62.0          126.0                        2.0   \n",
            "1              68.0          198.0                        6.0   \n",
            "2              68.0          198.0                        5.0   \n",
            "3              53.0          170.0                       11.0   \n",
            "4              53.0          170.0                        9.0   \n",
            "...             ...            ...                        ...   \n",
            "2121          137.0          177.0                        4.0   \n",
            "2122          103.0          169.0                        6.0   \n",
            "2123          103.0          170.0                        5.0   \n",
            "2124          103.0          169.0                        6.0   \n",
            "2125          117.0          159.0                        2.0   \n",
            "\n",
            "      histogram_number_of_zeroes  histogram_mode  histogram_mean  \\\n",
            "0                            0.0           120.0           137.0   \n",
            "1                            1.0           141.0           136.0   \n",
            "2                            1.0           141.0           135.0   \n",
            "3                            0.0           137.0           134.0   \n",
            "4                            0.0           137.0           136.0   \n",
            "...                          ...             ...             ...   \n",
            "2121                         0.0           153.0           150.0   \n",
            "2122                         0.0           152.0           148.0   \n",
            "2123                         0.0           153.0           148.0   \n",
            "2124                         0.0           152.0           147.0   \n",
            "2125                         1.0           145.0           143.0   \n",
            "\n",
            "      histogram_median  histogram_variance  histogram_tendency  fetal_health  \n",
            "0                121.0                73.0                 1.0           2.0  \n",
            "1                140.0                12.0                 0.0           1.0  \n",
            "2                138.0                13.0                 0.0           1.0  \n",
            "3                137.0                13.0                 1.0           1.0  \n",
            "4                138.0                11.0                 1.0           1.0  \n",
            "...                ...                 ...                 ...           ...  \n",
            "2121             152.0                 2.0                 0.0           2.0  \n",
            "2122             151.0                 3.0                 1.0           2.0  \n",
            "2123             152.0                 4.0                 1.0           2.0  \n",
            "2124             151.0                 4.0                 1.0           2.0  \n",
            "2125             145.0                 1.0                 0.0           1.0  \n",
            "\n",
            "[2126 rows x 22 columns]\n"
          ]
        }
      ]
    }
  ]
}